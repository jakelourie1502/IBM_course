{
 "cells": [
  {
   "cell_type": "code",
   "execution_count": 1,
   "metadata": {},
   "outputs": [],
   "source": [
    "import pandas as pd\n",
    "import numpy as np\n",
    "import seaborn as sns\n",
    "import statsmodels.api as sm\n",
    "from sklearn.model_selection import train_test_split\n",
    "from sklearn.metrics import r2_score\n",
    "import matplotlib.pyplot as plt\n",
    "from sklearn.linear_model import LogisticRegression\n",
    "from sklearn.metrics import roc_auc_score, roc_curve, precision_score, precision_recall_curve, recall_score, accuracy_score\n",
    "#sns.set_palette(palette)"
   ]
  },
  {
   "cell_type": "code",
   "execution_count": 2,
   "metadata": {},
   "outputs": [],
   "source": [
    "file = \"Human_activity_recognition.csv\"\n",
    "df = pd.read_csv(file)"
   ]
  },
  {
   "cell_type": "code",
   "execution_count": 3,
   "metadata": {},
   "outputs": [],
   "source": [
    "Y = df.Activity\n",
    "X = df.drop('Activity',axis=1)"
   ]
  },
  {
   "cell_type": "code",
   "execution_count": 4,
   "metadata": {},
   "outputs": [
    {
     "data": {
      "text/plain": [
       "angle(tBodyGyroJerkMean,gravityMean)    float64\n",
       "angle(X,gravityMean)                    float64\n",
       "angle(Y,gravityMean)                    float64\n",
       "angle(Z,gravityMean)                    float64\n",
       "Activity                                 object\n",
       "dtype: object"
      ]
     },
     "execution_count": 4,
     "metadata": {},
     "output_type": "execute_result"
    }
   ],
   "source": [
    "df.dtypes.tail()"
   ]
  },
  {
   "cell_type": "code",
   "execution_count": 5,
   "metadata": {},
   "outputs": [
    {
     "data": {
      "text/plain": [
       "-1.0    561\n",
       "dtype: int64"
      ]
     },
     "execution_count": 5,
     "metadata": {},
     "output_type": "execute_result"
    }
   ],
   "source": [
    "df.iloc[:,:-1].min().value_counts()"
   ]
  },
  {
   "cell_type": "code",
   "execution_count": 6,
   "metadata": {
    "scrolled": true
   },
   "outputs": [
    {
     "data": {
      "text/plain": [
       "1.0    561\n",
       "dtype: int64"
      ]
     },
     "execution_count": 6,
     "metadata": {},
     "output_type": "execute_result"
    }
   ],
   "source": [
    "df.iloc[:,:-1].max().value_counts()"
   ]
  },
  {
   "cell_type": "code",
   "execution_count": 7,
   "metadata": {},
   "outputs": [
    {
     "data": {
      "text/plain": [
       "LAYING                1944\n",
       "STANDING              1906\n",
       "SITTING               1777\n",
       "WALKING               1722\n",
       "WALKING_UPSTAIRS      1544\n",
       "WALKING_DOWNSTAIRS    1406\n",
       "Name: Activity, dtype: int64"
      ]
     },
     "execution_count": 7,
     "metadata": {},
     "output_type": "execute_result"
    }
   ],
   "source": [
    "df.Activity.value_counts()"
   ]
  },
  {
   "cell_type": "markdown",
   "metadata": {},
   "source": [
    "# This is a balanced dataset, so what is the best type of error metric to use?"
   ]
  },
  {
   "cell_type": "code",
   "execution_count": 8,
   "metadata": {},
   "outputs": [],
   "source": [
    "from sklearn.preprocessing import LabelEncoder"
   ]
  },
  {
   "cell_type": "code",
   "execution_count": 9,
   "metadata": {},
   "outputs": [],
   "source": [
    "le = LabelEncoder()\n",
    "df['Activity_transformed'] = le.fit_transform(df.Activity)"
   ]
  },
  {
   "cell_type": "code",
   "execution_count": 70,
   "metadata": {},
   "outputs": [],
   "source": [
    "#This is the mapping between activity and labels\n",
    "label_mapping = df.groupby('Activity')['Activity_transformed'].mean()"
   ]
  },
  {
   "cell_type": "markdown",
   "metadata": {},
   "source": [
    "# Let's calculate the correlation between the independent variables\n",
    "Create a histogram of the correlation values\n",
    "identify the most correlated"
   ]
  },
  {
   "cell_type": "code",
   "execution_count": 10,
   "metadata": {},
   "outputs": [],
   "source": [
    "corr_values = X.corr()\n",
    "tril_index = np.tril_indices_from(corr_values)\n",
    "\n",
    "corr_array = np.array(corr_values)\n",
    "corr_array[tril_index] = np.nan"
   ]
  },
  {
   "cell_type": "code",
   "execution_count": 12,
   "metadata": {},
   "outputs": [],
   "source": [
    "corr_df = pd.DataFrame(corr_array,columns = corr_values.columns,index = corr_values.index)\n"
   ]
  },
  {
   "cell_type": "code",
   "execution_count": 13,
   "metadata": {},
   "outputs": [],
   "source": [
    "corr_df = corr_df.stack().to_frame().reset_index().rename(columns = {'level_0':'feature1',\n",
    "                                                                    'level_1': 'feature 2',\n",
    "                                                                    0:'correlation'})\n",
    "                "
   ]
  },
  {
   "cell_type": "code",
   "execution_count": 14,
   "metadata": {},
   "outputs": [],
   "source": [
    "corr_df['abs_corr'] = abs(corr_df['correlation'])"
   ]
  },
  {
   "cell_type": "code",
   "execution_count": 17,
   "metadata": {},
   "outputs": [
    {
     "data": {
      "text/html": [
       "<div>\n",
       "<style scoped>\n",
       "    .dataframe tbody tr th:only-of-type {\n",
       "        vertical-align: middle;\n",
       "    }\n",
       "\n",
       "    .dataframe tbody tr th {\n",
       "        vertical-align: top;\n",
       "    }\n",
       "\n",
       "    .dataframe thead th {\n",
       "        text-align: right;\n",
       "    }\n",
       "</style>\n",
       "<table border=\"1\" class=\"dataframe\">\n",
       "  <thead>\n",
       "    <tr style=\"text-align: right;\">\n",
       "      <th></th>\n",
       "      <th>feature1</th>\n",
       "      <th>feature 2</th>\n",
       "      <th>correlation</th>\n",
       "      <th>abs_corr</th>\n",
       "    </tr>\n",
       "  </thead>\n",
       "  <tbody>\n",
       "    <tr>\n",
       "      <th>93902</th>\n",
       "      <td>tBodyAccMag-sma()</td>\n",
       "      <td>tGravityAccMag-sma()</td>\n",
       "      <td>1.0</td>\n",
       "      <td>1.0</td>\n",
       "    </tr>\n",
       "    <tr>\n",
       "      <th>96017</th>\n",
       "      <td>tBodyAccMag-arCoeff()3</td>\n",
       "      <td>tGravityAccMag-arCoeff()3</td>\n",
       "      <td>1.0</td>\n",
       "      <td>1.0</td>\n",
       "    </tr>\n",
       "    <tr>\n",
       "      <th>94964</th>\n",
       "      <td>tBodyAccMag-entropy()</td>\n",
       "      <td>tGravityAccMag-entropy()</td>\n",
       "      <td>1.0</td>\n",
       "      <td>1.0</td>\n",
       "    </tr>\n",
       "    <tr>\n",
       "      <th>96706</th>\n",
       "      <td>tGravityAccMag-mean()</td>\n",
       "      <td>tGravityAccMag-sma()</td>\n",
       "      <td>1.0</td>\n",
       "      <td>1.0</td>\n",
       "    </tr>\n",
       "    <tr>\n",
       "      <th>93546</th>\n",
       "      <td>tBodyAccMag-min()</td>\n",
       "      <td>tGravityAccMag-min()</td>\n",
       "      <td>1.0</td>\n",
       "      <td>1.0</td>\n",
       "    </tr>\n",
       "  </tbody>\n",
       "</table>\n",
       "</div>"
      ],
      "text/plain": [
       "                     feature1                  feature 2  correlation  \\\n",
       "93902       tBodyAccMag-sma()       tGravityAccMag-sma()          1.0   \n",
       "96017  tBodyAccMag-arCoeff()3  tGravityAccMag-arCoeff()3          1.0   \n",
       "94964   tBodyAccMag-entropy()   tGravityAccMag-entropy()          1.0   \n",
       "96706   tGravityAccMag-mean()       tGravityAccMag-sma()          1.0   \n",
       "93546       tBodyAccMag-min()       tGravityAccMag-min()          1.0   \n",
       "\n",
       "       abs_corr  \n",
       "93902       1.0  \n",
       "96017       1.0  \n",
       "94964       1.0  \n",
       "96706       1.0  \n",
       "93546       1.0  "
      ]
     },
     "execution_count": 17,
     "metadata": {},
     "output_type": "execute_result"
    }
   ],
   "source": [
    "corr_df.sort_values('abs_corr',ascending=False).head(5)"
   ]
  },
  {
   "cell_type": "code",
   "execution_count": 20,
   "metadata": {},
   "outputs": [
    {
     "data": {
      "text/plain": [
       "array([[<AxesSubplot:title={'center':'abs_corr'}>]], dtype=object)"
      ]
     },
     "execution_count": 20,
     "metadata": {},
     "output_type": "execute_result"
    },
    {
     "data": {
      "image/png": "[encoded data removed]",
      "text/plain": [
       "<Figure size 432x288 with 1 Axes>"
      ]
     },
     "metadata": {
      "needs_background": "light"
     },
     "output_type": "display_data"
    }
   ],
   "source": [
    "corr_df.hist('abs_corr')"
   ]
  },
  {
   "cell_type": "code",
   "execution_count": 29,
   "metadata": {},
   "outputs": [
    {
     "data": {
      "image/png": "[encoded data removed]",
      "text/plain": [
       "<Figure size 864x576 with 1 Axes>"
      ]
     },
     "metadata": {},
     "output_type": "display_data"
    }
   ],
   "source": [
    "sns.set_context('poster')\n",
    "sns.set_style('dark')\n",
    "\n",
    "ax=corr_df['abs_corr'].hist(bins=50,figsize=(12,8),grid=False)\n",
    "ax.set(xlabel='abs correlation',ylabel = 'frequency')\n",
    "plt.show()"
   ]
  },
  {
   "cell_type": "markdown",
   "metadata": {},
   "source": [
    "# Now split the data into train and test datasets. use Stratified ShuffleSplit\n",
    "compare the ratio of classes in the train and test split"
   ]
  },
  {
   "cell_type": "code",
   "execution_count": 38,
   "metadata": {},
   "outputs": [],
   "source": [
    "from sklearn.model_selection import StratifiedShuffleSplit"
   ]
  },
  {
   "cell_type": "code",
   "execution_count": 96,
   "metadata": {},
   "outputs": [
    {
     "data": {
      "text/plain": [
       "1"
      ]
     },
     "execution_count": 96,
     "metadata": {},
     "output_type": "execute_result"
    }
   ],
   "source": [
    "sss = StratifiedShuffleSplit(n_splits=1, test_size=0.3, random_state=1)\n",
    "sss.get_n_splits(X,Y)"
   ]
  },
  {
   "cell_type": "code",
   "execution_count": 97,
   "metadata": {},
   "outputs": [],
   "source": [
    "Y = df['Activity_transformed']"
   ]
  },
  {
   "cell_type": "code",
   "execution_count": 99,
   "metadata": {},
   "outputs": [],
   "source": [
    "#doing stratified shufflesplit manually\n",
    "train_idx, test_idx = next(sss.split(df[X.columns],df['Activity_transformed']))\n",
    "\n",
    "X_train = df.loc[train_idx,X.columns]\n",
    "y_train = df.loc[train_idx,['Activity_transformed']]\n",
    "#so here we create the x and y for one instance of the sss\n",
    "\n",
    "x_test = df.loc[test_idx,X.columns]\n",
    "y_test = df.loc[test_idx,['Activity_transformed']]\n",
    "\n"
   ]
  },
  {
   "cell_type": "code",
   "execution_count": 110,
   "metadata": {},
   "outputs": [
    {
     "data": {
      "text/plain": [
       "(7209, 1)"
      ]
     },
     "execution_count": 110,
     "metadata": {},
     "output_type": "execute_result"
    }
   ],
   "source": [
    "y_train.shape"
   ]
  },
  {
   "cell_type": "code",
   "execution_count": 108,
   "metadata": {},
   "outputs": [
    {
     "data": {
      "text/plain": [
       "(7209,)"
      ]
     },
     "execution_count": 108,
     "metadata": {},
     "output_type": "execute_result"
    }
   ],
   "source": [
    "np.array(y_train).reshape(-1).shape"
   ]
  },
  {
   "cell_type": "code",
   "execution_count": 113,
   "metadata": {
    "scrolled": true
   },
   "outputs": [
    {
     "data": {
      "text/plain": [
       "Activity_transformed\n",
       "0                       0.188792\n",
       "2                       0.185046\n",
       "1                       0.172562\n",
       "3                       0.167152\n",
       "5                       0.149951\n",
       "4                       0.136496\n",
       "dtype: float64"
      ]
     },
     "execution_count": 113,
     "metadata": {},
     "output_type": "execute_result"
    }
   ],
   "source": [
    "y_train.value_counts(normalize=True)\n"
   ]
  },
  {
   "cell_type": "markdown",
   "metadata": {},
   "source": [
    "# OK now we're setting up a logistic regression"
   ]
  },
  {
   "cell_type": "code",
   "execution_count": 115,
   "metadata": {},
   "outputs": [
    {
     "name": "stderr",
     "output_type": "stream",
     "text": [
      "/Users/jacoblourie/opt/anaconda3/lib/python3.8/site-packages/sklearn/utils/validation.py:72: DataConversionWarning: A column-vector y was passed when a 1d array was expected. Please change the shape of y to (n_samples, ), for example using ravel().\n",
      "  return f(**kwargs)\n"
     ]
    }
   ],
   "source": [
    "lr = LogisticRegression(solver='liblinear').fit(X_train,y_train)"
   ]
  },
  {
   "cell_type": "code",
   "execution_count": 123,
   "metadata": {},
   "outputs": [
    {
     "data": {
      "text/plain": [
       "0.9812297734627832"
      ]
     },
     "execution_count": 123,
     "metadata": {},
     "output_type": "execute_result"
    }
   ],
   "source": [
    "preds_basic = lr.predict(x_test)\n",
    "accuracy_score(preds_basic,y_test)"
   ]
  },
  {
   "cell_type": "code",
   "execution_count": 124,
   "metadata": {},
   "outputs": [
    {
     "name": "stderr",
     "output_type": "stream",
     "text": [
      "/Users/jacoblourie/opt/anaconda3/lib/python3.8/site-packages/sklearn/utils/validation.py:72: DataConversionWarning: A column-vector y was passed when a 1d array was expected. Please change the shape of y to (n_samples, ), for example using ravel().\n",
      "  return f(**kwargs)\n"
     ]
    }
   ],
   "source": [
    "from sklearn.linear_model import LogisticRegressionCV\n",
    "#importing the ability to do the cross validation automatically\n",
    "\n",
    "lr_l1 = LogisticRegressionCV(Cs=10,cv=4,penalty='l1', solver = 'liblinear').fit(X_train,y_train)"
   ]
  },
  {
   "cell_type": "code",
   "execution_count": 125,
   "metadata": {},
   "outputs": [
    {
     "name": "stderr",
     "output_type": "stream",
     "text": [
      "/Users/jacoblourie/opt/anaconda3/lib/python3.8/site-packages/sklearn/utils/validation.py:72: DataConversionWarning: A column-vector y was passed when a 1d array was expected. Please change the shape of y to (n_samples, ), for example using ravel().\n",
      "  return f(**kwargs)\n"
     ]
    }
   ],
   "source": [
    "lr_l2 = LogisticRegressionCV(Cs = 10, cv=4, penalty ='l2',solver = 'liblinear').fit(X_train,y_train)"
   ]
  },
  {
   "cell_type": "code",
   "execution_count": 162,
   "metadata": {},
   "outputs": [
    {
     "data": {
      "text/html": [
       "<div>\n",
       "<style scoped>\n",
       "    .dataframe tbody tr th:only-of-type {\n",
       "        vertical-align: middle;\n",
       "    }\n",
       "\n",
       "    .dataframe tbody tr th {\n",
       "        vertical-align: top;\n",
       "    }\n",
       "\n",
       "    .dataframe thead tr th {\n",
       "        text-align: left;\n",
       "    }\n",
       "</style>\n",
       "<table border=\"1\" class=\"dataframe\">\n",
       "  <thead>\n",
       "    <tr>\n",
       "      <th></th>\n",
       "      <th colspan=\"6\" halign=\"left\">lr</th>\n",
       "      <th colspan=\"6\" halign=\"left\">lr_l1</th>\n",
       "      <th colspan=\"6\" halign=\"left\">lr_l2</th>\n",
       "    </tr>\n",
       "    <tr>\n",
       "      <th></th>\n",
       "      <th>0</th>\n",
       "      <th>1</th>\n",
       "      <th>2</th>\n",
       "      <th>3</th>\n",
       "      <th>4</th>\n",
       "      <th>5</th>\n",
       "      <th>0</th>\n",
       "      <th>1</th>\n",
       "      <th>2</th>\n",
       "      <th>3</th>\n",
       "      <th>4</th>\n",
       "      <th>5</th>\n",
       "      <th>0</th>\n",
       "      <th>1</th>\n",
       "      <th>2</th>\n",
       "      <th>3</th>\n",
       "      <th>4</th>\n",
       "      <th>5</th>\n",
       "    </tr>\n",
       "  </thead>\n",
       "  <tbody>\n",
       "    <tr>\n",
       "      <th>0</th>\n",
       "      <td>-0.070718</td>\n",
       "      <td>-0.514241</td>\n",
       "      <td>0.286969</td>\n",
       "      <td>-0.153108</td>\n",
       "      <td>0.682050</td>\n",
       "      <td>-0.047802</td>\n",
       "      <td>0.000000</td>\n",
       "      <td>0.000000</td>\n",
       "      <td>0.000000</td>\n",
       "      <td>-0.962380</td>\n",
       "      <td>3.676413</td>\n",
       "      <td>0.000000</td>\n",
       "      <td>-0.061675</td>\n",
       "      <td>-0.831766</td>\n",
       "      <td>0.696995</td>\n",
       "      <td>-0.197083</td>\n",
       "      <td>0.931468</td>\n",
       "      <td>0.299820</td>\n",
       "    </tr>\n",
       "    <tr>\n",
       "      <th>1</th>\n",
       "      <td>0.000328</td>\n",
       "      <td>-0.279924</td>\n",
       "      <td>0.166647</td>\n",
       "      <td>0.032470</td>\n",
       "      <td>0.156540</td>\n",
       "      <td>-0.256272</td>\n",
       "      <td>0.000000</td>\n",
       "      <td>0.000000</td>\n",
       "      <td>0.000000</td>\n",
       "      <td>0.000000</td>\n",
       "      <td>1.724460</td>\n",
       "      <td>0.000000</td>\n",
       "      <td>0.000598</td>\n",
       "      <td>-0.595863</td>\n",
       "      <td>1.085419</td>\n",
       "      <td>0.049346</td>\n",
       "      <td>0.203627</td>\n",
       "      <td>-1.044852</td>\n",
       "    </tr>\n",
       "    <tr>\n",
       "      <th>2</th>\n",
       "      <td>0.031315</td>\n",
       "      <td>0.012980</td>\n",
       "      <td>0.365968</td>\n",
       "      <td>0.077230</td>\n",
       "      <td>0.281404</td>\n",
       "      <td>-0.481036</td>\n",
       "      <td>0.000000</td>\n",
       "      <td>0.000000</td>\n",
       "      <td>0.000000</td>\n",
       "      <td>0.000000</td>\n",
       "      <td>1.995468</td>\n",
       "      <td>-0.443000</td>\n",
       "      <td>0.026205</td>\n",
       "      <td>-0.036322</td>\n",
       "      <td>1.608813</td>\n",
       "      <td>0.116033</td>\n",
       "      <td>0.386148</td>\n",
       "      <td>-2.089345</td>\n",
       "    </tr>\n",
       "    <tr>\n",
       "      <th>3</th>\n",
       "      <td>-0.001248</td>\n",
       "      <td>-0.708525</td>\n",
       "      <td>-0.356248</td>\n",
       "      <td>-0.676203</td>\n",
       "      <td>0.254349</td>\n",
       "      <td>0.652690</td>\n",
       "      <td>0.043239</td>\n",
       "      <td>-1.580975</td>\n",
       "      <td>-0.554022</td>\n",
       "      <td>-1.514313</td>\n",
       "      <td>0.392369</td>\n",
       "      <td>1.243147</td>\n",
       "      <td>-0.003629</td>\n",
       "      <td>-1.058347</td>\n",
       "      <td>-0.933259</td>\n",
       "      <td>-0.864647</td>\n",
       "      <td>0.265125</td>\n",
       "      <td>2.634020</td>\n",
       "    </tr>\n",
       "    <tr>\n",
       "      <th>4</th>\n",
       "      <td>-0.056083</td>\n",
       "      <td>-0.021216</td>\n",
       "      <td>-0.455041</td>\n",
       "      <td>0.232579</td>\n",
       "      <td>-0.487521</td>\n",
       "      <td>0.211378</td>\n",
       "      <td>0.000000</td>\n",
       "      <td>0.000000</td>\n",
       "      <td>-1.002687</td>\n",
       "      <td>0.180949</td>\n",
       "      <td>-0.957142</td>\n",
       "      <td>0.000000</td>\n",
       "      <td>-0.053460</td>\n",
       "      <td>0.019795</td>\n",
       "      <td>-0.900120</td>\n",
       "      <td>0.329794</td>\n",
       "      <td>-0.611643</td>\n",
       "      <td>0.749521</td>\n",
       "    </tr>\n",
       "    <tr>\n",
       "      <th>...</th>\n",
       "      <td>...</td>\n",
       "      <td>...</td>\n",
       "      <td>...</td>\n",
       "      <td>...</td>\n",
       "      <td>...</td>\n",
       "      <td>...</td>\n",
       "      <td>...</td>\n",
       "      <td>...</td>\n",
       "      <td>...</td>\n",
       "      <td>...</td>\n",
       "      <td>...</td>\n",
       "      <td>...</td>\n",
       "      <td>...</td>\n",
       "      <td>...</td>\n",
       "      <td>...</td>\n",
       "      <td>...</td>\n",
       "      <td>...</td>\n",
       "      <td>...</td>\n",
       "    </tr>\n",
       "    <tr>\n",
       "      <th>556</th>\n",
       "      <td>0.014920</td>\n",
       "      <td>-0.774613</td>\n",
       "      <td>0.689848</td>\n",
       "      <td>-0.135773</td>\n",
       "      <td>0.500988</td>\n",
       "      <td>-0.460556</td>\n",
       "      <td>0.000000</td>\n",
       "      <td>-0.776819</td>\n",
       "      <td>0.680845</td>\n",
       "      <td>-0.383420</td>\n",
       "      <td>0.915912</td>\n",
       "      <td>-0.975524</td>\n",
       "      <td>0.026317</td>\n",
       "      <td>-0.834897</td>\n",
       "      <td>0.874572</td>\n",
       "      <td>-0.186538</td>\n",
       "      <td>0.594263</td>\n",
       "      <td>-1.560684</td>\n",
       "    </tr>\n",
       "    <tr>\n",
       "      <th>557</th>\n",
       "      <td>0.031278</td>\n",
       "      <td>-0.341497</td>\n",
       "      <td>0.376489</td>\n",
       "      <td>-0.104372</td>\n",
       "      <td>-0.035859</td>\n",
       "      <td>0.149334</td>\n",
       "      <td>-0.000287</td>\n",
       "      <td>-0.762902</td>\n",
       "      <td>0.855470</td>\n",
       "      <td>-0.141583</td>\n",
       "      <td>0.232144</td>\n",
       "      <td>0.670919</td>\n",
       "      <td>0.028385</td>\n",
       "      <td>-0.487756</td>\n",
       "      <td>1.061261</td>\n",
       "      <td>-0.140195</td>\n",
       "      <td>0.008806</td>\n",
       "      <td>0.519264</td>\n",
       "    </tr>\n",
       "    <tr>\n",
       "      <th>558</th>\n",
       "      <td>1.593736</td>\n",
       "      <td>-2.248973</td>\n",
       "      <td>-0.984073</td>\n",
       "      <td>-0.273113</td>\n",
       "      <td>-0.704650</td>\n",
       "      <td>0.509013</td>\n",
       "      <td>3.660422</td>\n",
       "      <td>-6.262775</td>\n",
       "      <td>-0.650524</td>\n",
       "      <td>0.000000</td>\n",
       "      <td>-0.945339</td>\n",
       "      <td>0.675910</td>\n",
       "      <td>1.354723</td>\n",
       "      <td>-3.373555</td>\n",
       "      <td>-2.064415</td>\n",
       "      <td>-0.332159</td>\n",
       "      <td>-0.920549</td>\n",
       "      <td>1.986796</td>\n",
       "    </tr>\n",
       "    <tr>\n",
       "      <th>559</th>\n",
       "      <td>-0.373650</td>\n",
       "      <td>-0.903142</td>\n",
       "      <td>1.788551</td>\n",
       "      <td>-0.225611</td>\n",
       "      <td>-0.243317</td>\n",
       "      <td>0.871769</td>\n",
       "      <td>-0.483285</td>\n",
       "      <td>0.000000</td>\n",
       "      <td>0.000000</td>\n",
       "      <td>0.000000</td>\n",
       "      <td>0.300221</td>\n",
       "      <td>2.086942</td>\n",
       "      <td>-0.336830</td>\n",
       "      <td>-0.713086</td>\n",
       "      <td>3.572697</td>\n",
       "      <td>-0.318736</td>\n",
       "      <td>-0.315958</td>\n",
       "      <td>3.546083</td>\n",
       "    </tr>\n",
       "    <tr>\n",
       "      <th>560</th>\n",
       "      <td>-0.195211</td>\n",
       "      <td>-0.303237</td>\n",
       "      <td>0.411433</td>\n",
       "      <td>0.001179</td>\n",
       "      <td>-0.064911</td>\n",
       "      <td>0.462834</td>\n",
       "      <td>0.000000</td>\n",
       "      <td>0.000000</td>\n",
       "      <td>0.000000</td>\n",
       "      <td>0.000000</td>\n",
       "      <td>0.155690</td>\n",
       "      <td>0.906797</td>\n",
       "      <td>-0.175408</td>\n",
       "      <td>-0.256874</td>\n",
       "      <td>0.707507</td>\n",
       "      <td>-0.017888</td>\n",
       "      <td>-0.081027</td>\n",
       "      <td>1.381036</td>\n",
       "    </tr>\n",
       "  </tbody>\n",
       "</table>\n",
       "<p>561 rows × 18 columns</p>\n",
       "</div>"
      ],
      "text/plain": [
       "           lr                                                       lr_l1  \\\n",
       "            0         1         2         3         4         5         0   \n",
       "0   -0.070718 -0.514241  0.286969 -0.153108  0.682050 -0.047802  0.000000   \n",
       "1    0.000328 -0.279924  0.166647  0.032470  0.156540 -0.256272  0.000000   \n",
       "2    0.031315  0.012980  0.365968  0.077230  0.281404 -0.481036  0.000000   \n",
       "3   -0.001248 -0.708525 -0.356248 -0.676203  0.254349  0.652690  0.043239   \n",
       "4   -0.056083 -0.021216 -0.455041  0.232579 -0.487521  0.211378  0.000000   \n",
       "..        ...       ...       ...       ...       ...       ...       ...   \n",
       "556  0.014920 -0.774613  0.689848 -0.135773  0.500988 -0.460556  0.000000   \n",
       "557  0.031278 -0.341497  0.376489 -0.104372 -0.035859  0.149334 -0.000287   \n",
       "558  1.593736 -2.248973 -0.984073 -0.273113 -0.704650  0.509013  3.660422   \n",
       "559 -0.373650 -0.903142  1.788551 -0.225611 -0.243317  0.871769 -0.483285   \n",
       "560 -0.195211 -0.303237  0.411433  0.001179 -0.064911  0.462834  0.000000   \n",
       "\n",
       "                                                          lr_l2            \\\n",
       "            1         2         3         4         5         0         1   \n",
       "0    0.000000  0.000000 -0.962380  3.676413  0.000000 -0.061675 -0.831766   \n",
       "1    0.000000  0.000000  0.000000  1.724460  0.000000  0.000598 -0.595863   \n",
       "2    0.000000  0.000000  0.000000  1.995468 -0.443000  0.026205 -0.036322   \n",
       "3   -1.580975 -0.554022 -1.514313  0.392369  1.243147 -0.003629 -1.058347   \n",
       "4    0.000000 -1.002687  0.180949 -0.957142  0.000000 -0.053460  0.019795   \n",
       "..        ...       ...       ...       ...       ...       ...       ...   \n",
       "556 -0.776819  0.680845 -0.383420  0.915912 -0.975524  0.026317 -0.834897   \n",
       "557 -0.762902  0.855470 -0.141583  0.232144  0.670919  0.028385 -0.487756   \n",
       "558 -6.262775 -0.650524  0.000000 -0.945339  0.675910  1.354723 -3.373555   \n",
       "559  0.000000  0.000000  0.000000  0.300221  2.086942 -0.336830 -0.713086   \n",
       "560  0.000000  0.000000  0.000000  0.155690  0.906797 -0.175408 -0.256874   \n",
       "\n",
       "                                             \n",
       "            2         3         4         5  \n",
       "0    0.696995 -0.197083  0.931468  0.299820  \n",
       "1    1.085419  0.049346  0.203627 -1.044852  \n",
       "2    1.608813  0.116033  0.386148 -2.089345  \n",
       "3   -0.933259 -0.864647  0.265125  2.634020  \n",
       "4   -0.900120  0.329794 -0.611643  0.749521  \n",
       "..        ...       ...       ...       ...  \n",
       "556  0.874572 -0.186538  0.594263 -1.560684  \n",
       "557  1.061261 -0.140195  0.008806  0.519264  \n",
       "558 -2.064415 -0.332159 -0.920549  1.986796  \n",
       "559  3.572697 -0.318736 -0.315958  3.546083  \n",
       "560  0.707507 -0.017888 -0.081027  1.381036  \n",
       "\n",
       "[561 rows x 18 columns]"
      ]
     },
     "execution_count": 162,
     "metadata": {},
     "output_type": "execute_result"
    }
   ],
   "source": [
    "coefficients = list()\n",
    "\n",
    "coeff_labels = ['lr','lr_l1', 'lr_l2']\n",
    "coeff_models = [lr, lr_l1, lr_l2]\n",
    "\n",
    "for lab,mod in zip(coeff_labels, coeff_models):\n",
    "    coeffs = mod.coef_\n",
    "    coeff_label = pd.MultiIndex(levels = [[lab],[0,1,2,3,4,5]],\n",
    "                               codes = [[0,0,0,0,0,0],[0,1,2,3,4,5]])\n",
    "    coefficients.append(pd.DataFrame(coeffs.T,columns=coeff_label))\n",
    "    \n",
    "coefficients1 = pd.concat(coefficients,axis=1)\n",
    "\n",
    "coefficients1"
   ]
  },
  {
   "cell_type": "markdown",
   "metadata": {},
   "source": [
    "# Note that lr_l1 has a lot of 0s"
   ]
  },
  {
   "cell_type": "code",
   "execution_count": 176,
   "metadata": {},
   "outputs": [
    {
     "data": {
      "text/html": [
       "<div>\n",
       "<style scoped>\n",
       "    .dataframe tbody tr th:only-of-type {\n",
       "        vertical-align: middle;\n",
       "    }\n",
       "\n",
       "    .dataframe tbody tr th {\n",
       "        vertical-align: top;\n",
       "    }\n",
       "\n",
       "    .dataframe thead th {\n",
       "        text-align: right;\n",
       "    }\n",
       "</style>\n",
       "<table border=\"1\" class=\"dataframe\">\n",
       "  <thead>\n",
       "    <tr style=\"text-align: right;\">\n",
       "      <th></th>\n",
       "      <th>accuracy</th>\n",
       "    </tr>\n",
       "  </thead>\n",
       "  <tbody>\n",
       "    <tr>\n",
       "      <th>lr</th>\n",
       "      <td>0.981230</td>\n",
       "    </tr>\n",
       "    <tr>\n",
       "      <th>lr_l1</th>\n",
       "      <td>0.982848</td>\n",
       "    </tr>\n",
       "    <tr>\n",
       "      <th>lr_l2</th>\n",
       "      <td>0.983172</td>\n",
       "    </tr>\n",
       "  </tbody>\n",
       "</table>\n",
       "</div>"
      ],
      "text/plain": [
       "       accuracy\n",
       "lr     0.981230\n",
       "lr_l1  0.982848\n",
       "lr_l2  0.983172"
      ]
     },
     "execution_count": 176,
     "metadata": {},
     "output_type": "execute_result"
    }
   ],
   "source": [
    "#quickly compare accuracy scores.\n",
    "acc_dict = {}\n",
    "for label, mod in zip(coeff_labels,coeff_models):\n",
    "    acc_dict[label] = accuracy_score(mod.predict(x_test),y_test)\n",
    "\n",
    "pd.Series(acc_dict).to_frame().rename(columns = {0:'accuracy'})"
   ]
  },
  {
   "cell_type": "code",
   "execution_count": 190,
   "metadata": {},
   "outputs": [
    {
     "name": "stdout",
     "output_type": "stream",
     "text": [
      "(3, 2)\n",
      "(6,)\n"
     ]
    },
    {
     "data": {
      "text/plain": [
       "<function matplotlib.pyplot.tight_layout(*, pad=1.08, h_pad=None, w_pad=None, rect=None)>"
      ]
     },
     "execution_count": 190,
     "metadata": {},
     "output_type": "execute_result"
    },
    {
     "data": {
      "image/png": "[encoded data removed]",
      "text/plain": [
       "<Figure size 720x720 with 6 Axes>"
      ]
     },
     "metadata": {},
     "output_type": "display_data"
    }
   ],
   "source": [
    "sns.set_context('paper')\n",
    "fig, axList = plt.subplots(nrows =3, ncols=2)\n",
    "\n",
    "axList = axList.flatten()\n",
    "fig.set_size_inches(10,10)\n",
    "\n",
    "for loc, ax in enumerate(axList):\n",
    "    data = coefficients1.xs(loc,level = 1 , axis = 1) #take loc=1 to loc =6 at level 1 (coefficient level)\n",
    "    data.plot(marker = 'o', ls = '',ms=2.0, ax = ax,legend = False)\n",
    "    \n",
    "    if ax is axList[0]:\n",
    "        ax.legend(loc=4)\n",
    "        \n",
    "    ax.set(title = 'Coefficient Set '+str(loc))\n",
    "    \n",
    "plt.tight_layout"
   ]
  },
  {
   "cell_type": "markdown",
   "metadata": {},
   "source": [
    "# predicting"
   ]
  },
  {
   "cell_type": "code",
   "execution_count": 195,
   "metadata": {},
   "outputs": [],
   "source": [
    "y_pred = list()\n",
    "y_prob = list()\n",
    "\n",
    "coeff_labels = ['lr','l1','l2']\n",
    "coeff_models = [lr,lr_l1,lr_l2]\n",
    "\n",
    "for lab, mod in zip(coeff_labels,coeff_models):\n",
    "    y_pred.append(pd.Series(mod.predict(x_test),name = lab))\n",
    "    coeff_label = pd.MultiIndex(levels = [[lab],[0,1,2,3,4,5]],\n",
    "                               codes = [[0,0,0,0,0,0],[0,1,2,3,4,5]])\n",
    "    \n",
    "    y_prob.append(pd.DataFrame(mod.predict_proba(x_test),columns = coeff_label))\n",
    "    \n",
    "y_pred =pd.concat(y_pred,axis=1)\n",
    "y_prob =pd.concat(y_prob,axis=1)"
   ]
  },
  {
   "cell_type": "code",
   "execution_count": 232,
   "metadata": {},
   "outputs": [
    {
     "data": {
      "text/html": [
       "<div>\n",
       "<style scoped>\n",
       "    .dataframe tbody tr th:only-of-type {\n",
       "        vertical-align: middle;\n",
       "    }\n",
       "\n",
       "    .dataframe tbody tr th {\n",
       "        vertical-align: top;\n",
       "    }\n",
       "\n",
       "    .dataframe thead th {\n",
       "        text-align: right;\n",
       "    }\n",
       "</style>\n",
       "<table border=\"1\" class=\"dataframe\">\n",
       "  <thead>\n",
       "    <tr style=\"text-align: right;\">\n",
       "      <th></th>\n",
       "      <th>lr</th>\n",
       "      <th>l1</th>\n",
       "      <th>l2</th>\n",
       "    </tr>\n",
       "  </thead>\n",
       "  <tbody>\n",
       "    <tr>\n",
       "      <th>lr</th>\n",
       "      <td>1.000000</td>\n",
       "      <td>0.998587</td>\n",
       "      <td>0.998702</td>\n",
       "    </tr>\n",
       "    <tr>\n",
       "      <th>l1</th>\n",
       "      <td>0.998587</td>\n",
       "      <td>1.000000</td>\n",
       "      <td>0.998758</td>\n",
       "    </tr>\n",
       "    <tr>\n",
       "      <th>l2</th>\n",
       "      <td>0.998702</td>\n",
       "      <td>0.998758</td>\n",
       "      <td>1.000000</td>\n",
       "    </tr>\n",
       "  </tbody>\n",
       "</table>\n",
       "</div>"
      ],
      "text/plain": [
       "          lr        l1        l2\n",
       "lr  1.000000  0.998587  0.998702\n",
       "l1  0.998587  1.000000  0.998758\n",
       "l2  0.998702  0.998758  1.000000"
      ]
     },
     "execution_count": 232,
     "metadata": {},
     "output_type": "execute_result"
    }
   ],
   "source": [
    "y_pred_cor = y_pred.corr()\n",
    "y_pred_cor\n",
    "\n",
    "#corr_df = pd.DataFrame(y_pred_array).stack().to_frame().reset_index()#.rename(columns = ['model 1','model 2','correlation'])"
   ]
  },
  {
   "cell_type": "markdown",
   "metadata": {},
   "source": [
    "# calculate the following metrics\n",
    "accuracy\n",
    "\n",
    "precision\n",
    "\n",
    "recall\n",
    "\n",
    "fscore\n",
    "\n",
    "confusion matrix"
   ]
  },
  {
   "cell_type": "code",
   "execution_count": 265,
   "metadata": {},
   "outputs": [],
   "source": [
    "from sklearn.metrics import confusion_matrix, precision_recall_fscore_support as score\n",
    "from sklearn.metrics import accuracy_score, roc_auc_score\n",
    "from sklearn.preprocessing import label_binarize"
   ]
  },
  {
   "cell_type": "code",
   "execution_count": 248,
   "metadata": {},
   "outputs": [
    {
     "data": {
      "text/plain": [
       "0       3\n",
       "1       0\n",
       "2       1\n",
       "3       3\n",
       "4       1\n",
       "       ..\n",
       "3085    1\n",
       "3086    4\n",
       "3087    2\n",
       "3088    1\n",
       "3089    5\n",
       "Name: lr, Length: 3090, dtype: int64"
      ]
     },
     "execution_count": 248,
     "metadata": {},
     "output_type": "execute_result"
    }
   ],
   "source": [
    "y_pred['lr']"
   ]
  },
  {
   "cell_type": "code",
   "execution_count": 261,
   "metadata": {},
   "outputs": [
    {
     "data": {
      "text/plain": [
       "(0.9814932989676406, 0.9812297734627832, 0.9812115426125764, None)"
      ]
     },
     "execution_count": 261,
     "metadata": {},
     "output_type": "execute_result"
    }
   ],
   "source": [
    "precision = fscore(y_test, y_pred['lr'],average='weighted')\n",
    "precision"
   ]
  },
  {
   "cell_type": "code",
   "execution_count": 269,
   "metadata": {},
   "outputs": [],
   "source": [
    "metrics = list()\n",
    "cm = dict()\n",
    "\n",
    "for lab in coeff_labels:\n",
    "    precision, recall, fscore, _ = score(y_test, y_pred[lab],average = 'weighted')\n",
    "\n",
    "    accuracy = accuracy_score(y_test,y_pred[lab])\n",
    "    \n",
    "    auc = roc_auc_score(label_binarize(y_test,classes = [0,1,2,3,4,5]),\n",
    "                y_prob[lab],\n",
    "                average = 'weighted')\n",
    "    \n",
    "    cm[lab] = confusion_matrix(y_test,y_pred[lab])\n",
    "    \n",
    "    metrics.append(pd.Series({'precision':precision,'recall':recall,\n",
    "                             'fscore':fscore, 'accuracy':accuracy,\n",
    "                             'auc':auc},\n",
    "                             name = lab))\n",
    "    \n",
    "metrics_db = pd.concat(metrics,axis=1)\n"
   ]
  },
  {
   "cell_type": "code",
   "execution_count": 270,
   "metadata": {},
   "outputs": [
    {
     "data": {
      "text/html": [
       "<div>\n",
       "<style scoped>\n",
       "    .dataframe tbody tr th:only-of-type {\n",
       "        vertical-align: middle;\n",
       "    }\n",
       "\n",
       "    .dataframe tbody tr th {\n",
       "        vertical-align: top;\n",
       "    }\n",
       "\n",
       "    .dataframe thead th {\n",
       "        text-align: right;\n",
       "    }\n",
       "</style>\n",
       "<table border=\"1\" class=\"dataframe\">\n",
       "  <thead>\n",
       "    <tr style=\"text-align: right;\">\n",
       "      <th></th>\n",
       "      <th>lr</th>\n",
       "      <th>l1</th>\n",
       "      <th>l2</th>\n",
       "    </tr>\n",
       "  </thead>\n",
       "  <tbody>\n",
       "    <tr>\n",
       "      <th>precision</th>\n",
       "      <td>0.981493</td>\n",
       "      <td>0.983005</td>\n",
       "      <td>0.983268</td>\n",
       "    </tr>\n",
       "    <tr>\n",
       "      <th>recall</th>\n",
       "      <td>0.981230</td>\n",
       "      <td>0.982848</td>\n",
       "      <td>0.983172</td>\n",
       "    </tr>\n",
       "    <tr>\n",
       "      <th>fscore</th>\n",
       "      <td>0.981212</td>\n",
       "      <td>0.982840</td>\n",
       "      <td>0.983152</td>\n",
       "    </tr>\n",
       "    <tr>\n",
       "      <th>accuracy</th>\n",
       "      <td>0.981230</td>\n",
       "      <td>0.982848</td>\n",
       "      <td>0.983172</td>\n",
       "    </tr>\n",
       "    <tr>\n",
       "      <th>auc</th>\n",
       "      <td>0.999004</td>\n",
       "      <td>0.999163</td>\n",
       "      <td>0.999164</td>\n",
       "    </tr>\n",
       "  </tbody>\n",
       "</table>\n",
       "</div>"
      ],
      "text/plain": [
       "                 lr        l1        l2\n",
       "precision  0.981493  0.983005  0.983268\n",
       "recall     0.981230  0.982848  0.983172\n",
       "fscore     0.981212  0.982840  0.983152\n",
       "accuracy   0.981230  0.982848  0.983172\n",
       "auc        0.999004  0.999163  0.999164"
      ]
     },
     "execution_count": 270,
     "metadata": {},
     "output_type": "execute_result"
    }
   ],
   "source": [
    "metrics_db"
   ]
  },
  {
   "cell_type": "code",
   "execution_count": 275,
   "metadata": {},
   "outputs": [
    {
     "data": {
      "image/png": "[encoded data removed]",
      "text/plain": [
       "<Figure size 432x288 with 7 Axes>"
      ]
     },
     "metadata": {},
     "output_type": "display_data"
    }
   ],
   "source": [
    "fig, axList = plt.subplots(nrows=2,ncols=2)\n",
    "axList = axList.flatten()\n",
    "\n",
    "axList[-1].axis('off')\n",
    "\n",
    "for ax,lab in zip(axList[:-1],coeff_labels):\n",
    "    sns.heatmap(cm[lab],ax=ax,annot=True,fmt='d');\n",
    "    ax.set(title=label);\n",
    "\n",
    "plt.tight_layout()"
   ]
  },
  {
   "cell_type": "code",
   "execution_count": null,
   "metadata": {},
   "outputs": [],
   "source": []
  }
 ],
 "metadata": {
  "kernelspec": {
   "display_name": "Python 3",
   "language": "python",
   "name": "python3"
  },
  "language_info": {
   "codemirror_mode": {
    "name": "ipython",
    "version": 3
   },
   "file_extension": ".py",
   "mimetype": "text/x-python",
   "name": "python",
   "nbconvert_exporter": "python",
   "pygments_lexer": "ipython3",
   "version": "3.8.5"
  }
 },
 "nbformat": 4,
 "nbformat_minor": 4
}
